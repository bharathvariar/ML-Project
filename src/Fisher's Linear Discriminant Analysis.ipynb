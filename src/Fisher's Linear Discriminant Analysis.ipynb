{
 "cells": [
  {
   "cell_type": "code",
   "execution_count": 6,
   "id": "64fd3eb4",
   "metadata": {},
   "outputs": [],
   "source": [
    "import numpy as np\n",
    "from sklearn.discriminant_analysis import LinearDiscriminantAnalysis\n",
    "import matplotlib.pyplot as plt\n",
    "import warnings\n",
    "from feature_engineering import *\n",
    "warnings.filterwarnings('ignore')\n",
    "PI = np.pi\n",
    "%matplotlib inline"
   ]
  },
  {
   "cell_type": "code",
   "execution_count": 2,
   "id": "2f91dbb0",
   "metadata": {},
   "outputs": [],
   "source": [
    "# assume X_train and y_train are the training data and labels respectively\n",
    "df = pd.read_csv(\"../data/dataset1.csv\")\n",
    "df.head(-1)\n",
    "df=df.drop('id',axis=1)\n",
    "mean = np.mean(df, axis=0)\n",
    "for i in range(1, df.shape[1]):\n",
    "    df.iloc[:, i].fillna(mean[i-1], inplace=True)\n",
    "X_train, X_test, y_train, y_test = train_test_split(df, shuffle = False)"
   ]
  },
  {
   "cell_type": "code",
   "execution_count": 3,
   "id": "8faf76e0",
   "metadata": {},
   "outputs": [],
   "source": [
    "# build the FLDM model\n",
    "fldm = LinearDiscriminantAnalysis(n_components=1)\n",
    "fldm.fit(X_train, y_train)\n",
    "\n",
    "# project the training data onto the 1-dimensional FLDM space\n",
    "X_train_lda = fldm.transform(X_train)"
   ]
  },
  {
   "cell_type": "code",
   "execution_count": 10,
   "id": "c98b567d",
   "metadata": {},
   "outputs": [
    {
     "data": {
      "text/plain": [
       "[<matplotlib.lines.Line2D at 0x1ef9cd27430>]"
      ]
     },
     "execution_count": 10,
     "metadata": {},
     "output_type": "execute_result"
    },
    {
     "data": {
      "image/png": "[encoded data removed]",
      "text/plain": [
       "<Figure size 432x288 with 1 Axes>"
      ]
     },
     "metadata": {
      "needs_background": "light"
     },
     "output_type": "display_data"
    }
   ],
   "source": [
    "# find the decision boundary in the 1-dimensional FLDM space\n",
    "mean_pos = np.mean(X_train_lda[y_train == 1])\n",
    "mean_neg = np.mean(X_train_lda[y_train == -1])\n",
    "std_pos = np.std(X_train_lda[y_train == 1])\n",
    "std_neg = np.std(X_train_lda[y_train == -1])\n",
    "\n",
    "threshold = (mean_pos + mean_neg) / 2\n",
    "\n",
    "x = np.linspace(30, 80, 10000)\n",
    "y1 = 1/(std_pos*np.sqrt(2*PI)) * np.exp(-(x-mean_pos)**2 / 2*std_pos**2)\n",
    "plt.plot(x, y1)\n",
    "# assume X_test and y_test are the testing data and labels respectively"
   ]
  },
  {
   "cell_type": "code",
   "execution_count": 5,
   "id": "d45abef0",
   "metadata": {},
   "outputs": [
    {
     "name": "stdout",
     "output_type": "stream",
     "text": [
      "Confusion Matrix: {'true_positive': 41, 'true_negative': 142, 'false_positive': 3, 'false_negative': 2}\n",
      "Accuracy: 97.34042553191489%\n",
      "Precision: 93.18181818181819%\n",
      "Recall: 95.34883720930233%\n"
     ]
    },
    {
     "data": {
      "text/plain": [
       "97.34042553191489"
      ]
     },
     "execution_count": 5,
     "metadata": {},
     "output_type": "execute_result"
    }
   ],
   "source": [
    "# project the testing data onto the 1-dimensional FLDM space\n",
    "\n",
    "X_test_lda = fldm.transform(X_test)\n",
    "\n",
    "# evaluate the performance of the model on the testing data\n",
    "y_pred = np.where(X_test_lda > threshold, 1, -1)\n",
    "evaluate(y_test, y_pred)"
   ]
  },
  {
   "cell_type": "code",
   "execution_count": null,
   "id": "eb1c26f6",
   "metadata": {},
   "outputs": [],
   "source": []
  }
 ],
 "metadata": {
  "kernelspec": {
   "display_name": "Python 3 (ipykernel)",
   "language": "python",
   "name": "python3"
  },
  "language_info": {
   "codemirror_mode": {
    "name": "ipython",
    "version": 3
   },
   "file_extension": ".py",
   "mimetype": "text/x-python",
   "name": "python",
   "nbconvert_exporter": "python",
   "pygments_lexer": "ipython3",
   "version": "3.8.12"
  }
 },
 "nbformat": 4,
 "nbformat_minor": 5
}
