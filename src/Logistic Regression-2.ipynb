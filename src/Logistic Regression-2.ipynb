{
 "cells": [
  {
   "cell_type": "code",
   "execution_count": 1,
   "id": "3757b202",
   "metadata": {},
   "outputs": [],
   "source": [
    "import numpy as np\n",
    "import matplotlib\n",
    "import matplotlib.pyplot as plt\n",
    "import pandas as pd"
   ]
  },
  {
   "cell_type": "code",
   "execution_count": 2,
   "id": "ee1aafd9",
   "metadata": {},
   "outputs": [],
   "source": [
    "df = pd.read_csv(\"../data/dataset1.csv\")"
   ]
  },
  {
   "cell_type": "code",
   "execution_count": 3,
   "id": "d7a53420",
   "metadata": {},
   "outputs": [],
   "source": [
    "df = df.drop(\"id\", axis=1)"
   ]
  },
  {
   "cell_type": "code",
   "execution_count": 4,
   "id": "7a2eac03",
   "metadata": {},
   "outputs": [],
   "source": [
    "df[\"diagnosis\"] = df[\"diagnosis\"].map({\"M\": 1, \"B\": 0})"
   ]
  },
  {
   "cell_type": "code",
   "execution_count": 5,
   "id": "2cc90524",
   "metadata": {},
   "outputs": [
    {
     "name": "stdout",
     "output_type": "stream",
     "text": [
      "0.37258347978910367\n",
      "14.116125000000011\n",
      "19.28964850615117\n",
      "92.02346830985917\n",
      "654.8891036906857\n",
      "0.096360281195079\n",
      "0.10434098418277686\n",
      "0.08892480757042255\n",
      "0.048919145869947236\n",
      "0.181161862917399\n",
      "0.06279760984182778\n",
      "0.4051720562390161\n",
      "1.2168534270650269\n",
      "2.8660592267135288\n",
      "40.33707908611603\n",
      "0.007040978910369071\n",
      "0.02546582922535212\n",
      "0.031893716344463946\n",
      "0.011796137082601056\n",
      "0.020542298769771532\n",
      "0.0037949038664323383\n",
      "16.269189806678394\n",
      "25.677223198594014\n",
      "107.2612126537786\n",
      "881.4024691358021\n",
      "0.13236859402460469\n",
      "0.25426504393673144\n",
      "0.27245536443661955\n",
      "0.11460622319859404\n",
      "0.29007557117750454\n"
     ]
    }
   ],
   "source": [
    "mean = np.mean(df, axis=0)\n",
    "for i in range(1,df.shape[1]):\n",
    "    df.iloc[:, i].fillna(mean[i-1], inplace=True)"
   ]
  },
  {
   "cell_type": "code",
   "execution_count": 6,
   "id": "968c36d6",
   "metadata": {},
   "outputs": [
    {
     "data": {
      "text/plain": [
       "diagnosis                  0\n",
       "radius_mean                0\n",
       "texture_mean               0\n",
       "perimeter_mean             0\n",
       "area_mean                  0\n",
       "smoothness_mean            0\n",
       "compactness_mean           0\n",
       "concavity_mean             0\n",
       "concave points_mean        0\n",
       "symmetry_mean              0\n",
       "fractal_dimension_mean     0\n",
       "radius_se                  0\n",
       "texture_se                 0\n",
       "perimeter_se               0\n",
       "area_se                    0\n",
       "smoothness_se              0\n",
       "compactness_se             0\n",
       "concavity_se               0\n",
       "concave points_se          0\n",
       "symmetry_se                0\n",
       "fractal_dimension_se       0\n",
       "radius_worst               0\n",
       "texture_worst              0\n",
       "perimeter_worst            0\n",
       "area_worst                 0\n",
       "smoothness_worst           0\n",
       "compactness_worst          0\n",
       "concavity_worst            0\n",
       "concave points_worst       0\n",
       "symmetry_worst             0\n",
       "fractal_dimension_worst    0\n",
       "dtype: int64"
      ]
     },
     "execution_count": 6,
     "metadata": {},
     "output_type": "execute_result"
    }
   ],
   "source": [
    "df.isnull().sum()"
   ]
  },
  {
   "cell_type": "code",
   "execution_count": 7,
   "id": "ae7f9029",
   "metadata": {},
   "outputs": [],
   "source": [
    "y = df[\"diagnosis\"]\n",
    "X = df.drop([\"diagnosis\"], axis=1)\n",
    "mean = np.mean(X, axis=0)\n",
    "stddev = np.std(X, axis=0)\n",
    "X = (X - mean) / stddev\n",
    "df = pd.concat([X, y], axis=1)"
   ]
  },
  {
   "cell_type": "code",
   "execution_count": 8,
   "id": "c6a68da7",
   "metadata": {},
   "outputs": [],
   "source": [
    "y = df[\"diagnosis\"]\n",
    "X = df.drop([\"diagnosis\"], axis=1)\n",
    "split_idx = int(len(df) * 0.67)\n",
    "X_train, X_test = X[:split_idx], X[split_idx:]\n",
    "y_train, y_test = y[:split_idx], y[split_idx:]"
   ]
  },
  {
   "cell_type": "code",
   "execution_count": 10,
   "id": "d4a7ee54",
   "metadata": {},
   "outputs": [],
   "source": [
    "X_train = X_train.to_numpy()"
   ]
  },
  {
   "cell_type": "code",
   "execution_count": 11,
   "id": "e62a167b",
   "metadata": {},
   "outputs": [],
   "source": [
    "X_test = X_test.to_numpy()"
   ]
  },
  {
   "cell_type": "code",
   "execution_count": 12,
   "id": "92e493fb",
   "metadata": {},
   "outputs": [],
   "source": [
    "X_train = X_train.T\n",
    "X_test = X_test.T"
   ]
  },
  {
   "cell_type": "code",
   "execution_count": 13,
   "id": "c8d5c098",
   "metadata": {},
   "outputs": [],
   "source": [
    "def sigmoid(a):\n",
    "    return 1 / (1 + np.exp(-a))"
   ]
  },
  {
   "cell_type": "code",
   "execution_count": 14,
   "id": "ccf04e2f",
   "metadata": {},
   "outputs": [],
   "source": [
    "def calc_cost(m, Y, A):\n",
    "    return -(1 / m) * np.sum(Y * (np.log(A)) + (1 - Y) * (np.log(1 - A)))"
   ]
  },
  {
   "cell_type": "code",
   "execution_count": 15,
   "id": "6238babe",
   "metadata": {},
   "outputs": [],
   "source": [
    "def calc_weights(w, X):\n",
    "    A = sigmoid(np.dot(w.T, X))\n",
    "    return A"
   ]
  },
  {
   "cell_type": "code",
   "execution_count": 16,
   "id": "3d6f089e",
   "metadata": {},
   "outputs": [],
   "source": [
    "def update_weights(m, A, X, Y):\n",
    "    dw = (1 / m) * np.dot(X, (A - Y).T)\n",
    "    return dw"
   ]
  },
  {
   "cell_type": "code",
   "execution_count": 17,
   "id": "82e7e4ff",
   "metadata": {},
   "outputs": [],
   "source": [
    "def gradient_descent(w, X, Y, num_iterations, learning_rate):\n",
    "    costs = []\n",
    "    m = X.shape[1]\n",
    "    for i in range(num_iterations):\n",
    "        A = calc_weights(w, X)\n",
    "        cost = calc_cost(m, Y, A)\n",
    "        dw = update_weights(m, A, X, Y)\n",
    "        w = w - learning_rate * dw\n",
    "        costs.append(cost)\n",
    "    return w, dw, costs"
   ]
  },
  {
   "cell_type": "code",
   "execution_count": 18,
   "id": "473ba902",
   "metadata": {},
   "outputs": [],
   "source": [
    "def prediction(w, X, Y):\n",
    "    m = X.shape[1]\n",
    "    print(Y)\n",
    "    predict = np.zeros((1, m))\n",
    "    A = np.dot(w.T, X)\n",
    "    Y_prediction = np.zeros((1, m))\n",
    "\n",
    "    count = 0\n",
    "    for i in range(1, m):\n",
    "        if A[0][i] <= 0.5:\n",
    "            Y_prediction[0][i] = 0\n",
    "        else:\n",
    "            Y_prediction[0][i] = 1\n",
    "\n",
    "    for i in range(1, m):\n",
    "        if Y_prediction[0][i] == Y[i]:\n",
    "            count += 1\n",
    "\n",
    "    return (count / X.shape[1]) * 100"
   ]
  },
  {
   "cell_type": "code",
   "execution_count": 19,
   "id": "d891887b",
   "metadata": {},
   "outputs": [],
   "source": [
    "def logistic_regression(\n",
    "    X_train, Y_train, X_test, Y_test, learning_rate=0.005, num_iterations=1000\n",
    "):\n",
    "    w = np.zeros([X_train.shape[0], 1])\n",
    "    w, dw, costs = gradient_descent(w, X_train, Y_train, num_iterations, learning_rate)\n",
    "    train_accuracy = prediction(w, X_train, Y_train)\n",
    "    test_accuracy = prediction(w, X_test, Y_test)\n",
    "    return train_accuracy, test_accuracy, costs"
   ]
  },
  {
   "cell_type": "code",
   "execution_count": 20,
   "id": "b484f9f3",
   "metadata": {},
   "outputs": [
    {
     "data": {
      "text/plain": [
       "array([[ 1.09564189,  1.82081766,  1.57347089, ..., -0.12141667,\n",
       "        -0.84659244, -0.79318803],\n",
       "       [-2.07333501, -0.35363241,  0.45618695, ..., -0.963324  ,\n",
       "        -0.10696329, -1.4729517 ],\n",
       "       [ 1.26483041,  1.67819563,  1.55950661, ..., -0.14838751,\n",
       "        -0.76106843, -0.76679824],\n",
       "       ...,\n",
       "       [ 2.29607613,  1.0870843 ,  1.95500035, ..., -0.14017945,\n",
       "         2.09813036,  0.26180272],\n",
       "       [ 2.75062224, -0.24388967,  1.152255  , ...,  0.78663658,\n",
       "         2.02747431,  0.71545423],\n",
       "       [ 1.93701461,  0.28118999,  0.20139121, ...,  0.6890504 ,\n",
       "         3.12291311,  0.4546415 ]])"
      ]
     },
     "execution_count": 20,
     "metadata": {},
     "output_type": "execute_result"
    }
   ],
   "source": [
    "X_train"
   ]
  },
  {
   "cell_type": "code",
   "execution_count": 21,
   "id": "ed77d8ba",
   "metadata": {},
   "outputs": [],
   "source": [
    "y_train = y_train.to_numpy()"
   ]
  },
  {
   "cell_type": "code",
   "execution_count": 22,
   "id": "5b8161f9",
   "metadata": {},
   "outputs": [],
   "source": [
    "y_test = y_test.to_numpy()"
   ]
  },
  {
   "cell_type": "code",
   "execution_count": 23,
   "id": "74a5ea37",
   "metadata": {},
   "outputs": [
    {
     "name": "stdout",
     "output_type": "stream",
     "text": [
      "[1 1 1 1 1 1 1 1 1 1 1 1 1 1 1 1 1 1 1 0 0 0 1 1 1 1 1 1 1 1 1 1 1 1 1 1 1\n",
      " 0 1 1 1 1 1 1 1 1 0 1 0 0 0 0 0 1 1 0 1 1 0 0 0 0 1 0 1 1 0 0 0 0 1 0 1 1\n",
      " 0 1 0 1 1 0 0 0 1 1 0 1 1 1 0 0 0 1 0 0 1 1 0 0 0 1 1 0 0 0 0 1 0 0 1 0 0\n",
      " 0 0 0 0 0 0 1 1 1 0 1 1 0 0 0 1 1 0 1 0 1 1 0 1 1 0 0 1 0 0 1 0 0 0 0 1 0\n",
      " 0 0 0 0 0 0 0 0 1 0 0 0 0 1 1 0 1 0 0 1 1 0 0 1 1 0 0 0 0 1 0 0 1 1 1 0 1\n",
      " 0 1 0 0 0 1 0 0 1 1 0 1 1 1 1 0 1 1 1 0 1 0 1 0 0 1 0 1 1 1 1 0 0 1 1 0 0\n",
      " 0 1 0 0 0 0 0 1 1 0 0 1 0 0 1 1 0 1 0 0 0 0 1 0 0 0 0 0 1 0 1 1 1 1 1 1 1\n",
      " 1 1 1 1 1 1 1 0 0 0 0 0 0 1 0 1 0 0 1 0 0 1 0 1 1 0 0 0 0 0 0 0 0 0 0 0 0\n",
      " 0 1 0 0 1 0 1 0 0 0 0 0 0 0 0 0 0 0 0 0 0 1 0 0 0 1 0 1 0 0 0 0 1 1 1 0 0\n",
      " 0 0 1 0 1 0 1 0 0 0 1 0 0 0 0 0 0 0 1 1 1 0 0 0 0 0 0 0 0 0 0 0 1 1 0 1 1\n",
      " 1 0 1 1 0 0 0 0 0 1 0]\n",
      "[0 0 0 0 1 0 0 0 1 0 0 1 1 0 0 0 0 0 0 1 0 0 0 0 0 0 0 1 0 0 0 0 0 1 0 0 1\n",
      " 0 0 0 0 0 0 0 0 0 0 0 0 1 0 1 1 0 1 0 0 0 0 0 1 0 0 1 0 1 0 0 1 0 1 0 0 0\n",
      " 0 0 0 0 0 1 1 0 0 0 0 0 0 1 0 0 0 0 0 0 0 0 0 0 1 0 0 0 0 0 0 0 1 0 1 0 0\n",
      " 1 0 0 0 0 0 1 1 0 1 0 1 0 0 0 0 0 1 0 0 1 0 1 0 1 1 0 0 0 1 0 0 0 0 0 0 0\n",
      " 0 0 0 0 1 0 1 1 0 0 0 0 0 0 0 0 0 0 0 0 0 0 0 0 0 0 0 0 0 0 0 0 0 1 1 1 1\n",
      " 1 1 0]\n"
     ]
    }
   ],
   "source": [
    "train_accuracy, test_accuracy, costs = logistic_regression(X_train, y_train, X_test, y_test)"
   ]
  },
  {
   "cell_type": "code",
   "execution_count": 24,
   "id": "d3d5110a",
   "metadata": {},
   "outputs": [
    {
     "name": "stdout",
     "output_type": "stream",
     "text": [
      "Training Accuracy: 96.58792650918635%\n"
     ]
    }
   ],
   "source": [
    "print(\"Training Accuracy: \" + str(train_accuracy) + \"%\")"
   ]
  },
  {
   "cell_type": "code",
   "execution_count": 25,
   "id": "0a069aa9",
   "metadata": {},
   "outputs": [
    {
     "name": "stdout",
     "output_type": "stream",
     "text": [
      "Testing Accuracy: 97.3404255319149%\n"
     ]
    }
   ],
   "source": [
    "print(\"Testing Accuracy: \" + str(test_accuracy) + \"%\")"
   ]
  }
 ],
 "metadata": {
  "kernelspec": {
   "display_name": "Python 3 (ipykernel)",
   "language": "python",
   "name": "python3"
  },
  "language_info": {
   "codemirror_mode": {
    "name": "ipython",
    "version": 3
   },
   "file_extension": ".py",
   "mimetype": "text/x-python",
   "name": "python",
   "nbconvert_exporter": "python",
   "pygments_lexer": "ipython3",
   "version": "3.8.12"
  }
 },
 "nbformat": 4,
 "nbformat_minor": 5
}
