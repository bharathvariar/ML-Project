{
 "cells": [
  {
   "cell_type": "code",
   "execution_count": 1,
   "id": "64fd3eb4",
   "metadata": {},
   "outputs": [],
   "source": [
    "import numpy as np\n",
    "from sklearn.discriminant_analysis import LinearDiscriminantAnalysis\n",
    "import matplotlib.pyplot as plt\n",
    "import warnings\n",
    "from feature_engineering import *\n",
    "warnings.filterwarnings('ignore')\n",
    "%matplotlib inline"
   ]
  },
  {
   "cell_type": "code",
   "execution_count": 2,
   "id": "2f91dbb0",
   "metadata": {},
   "outputs": [],
   "source": [
    "# assume X_train and y_train are the training data and labels respectively\n",
    "df = pd.read_csv(\"../data/dataset1.csv\")\n",
    "df.head(-1)\n",
    "df=df.drop('id',axis=1)\n",
    "mean = np.mean(df, axis=0)\n",
    "for i in range(1, df.shape[1]):\n",
    "    df.iloc[:, i].fillna(mean[i-1], inplace=True)\n",
    "X_train, X_test, y_train, y_test = train_test_split(df, shuffle = False)"
   ]
  },
  {
   "cell_type": "code",
   "execution_count": 4,
   "id": "8faf76e0",
   "metadata": {},
   "outputs": [],
   "source": [
    "# build the FLDM model\n",
    "fldm = LinearDiscriminantAnalysis(n_components=1)\n",
    "fldm.fit(X_train, y_train)\n",
    "\n",
    "# project the training data onto the 1-dimensional FLDM space\n",
    "X_train_lda = fldm.transform(X_train)"
   ]
  },
  {
   "cell_type": "code",
   "execution_count": null,
   "id": "c98b567d",
   "metadata": {},
   "outputs": [],
   "source": [
    "# find the decision boundary in the 1-dimensional FLDM space\n",
    "mean_pos = np.mean(X_train_lda[y_train == 1])\n",
    "mean_neg = np.mean(X_train_lda[y_train == -1])\n",
    "std_pos = np.std(X_train_lda[y_train == 1])\n",
    "std_neg = np.std(X_train_lda[y_train == -1])\n",
    "\n",
    "threshold = (mean_pos + mean_neg) / 2\n",
    "\n",
    "# assume X_test and y_test are the testing data and labels respectively"
   ]
  }
 ],
 "metadata": {
  "kernelspec": {
   "display_name": "Python 3 (ipykernel)",
   "language": "python",
   "name": "python3"
  },
  "language_info": {
   "codemirror_mode": {
    "name": "ipython",
    "version": 3
   },
   "file_extension": ".py",
   "mimetype": "text/x-python",
   "name": "python",
   "nbconvert_exporter": "python",
   "pygments_lexer": "ipython3",
   "version": "3.8.12"
  }
 },
 "nbformat": 4,
 "nbformat_minor": 5
}
