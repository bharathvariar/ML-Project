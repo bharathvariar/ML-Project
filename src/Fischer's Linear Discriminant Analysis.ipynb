{
 "cells": [
  {
   "cell_type": "code",
   "execution_count": 1,
   "id": "7eea7dfb",
   "metadata": {},
   "outputs": [],
   "source": [
    "import numpy as np\n",
    "from sklearn.discriminant_analysis import LinearDiscriminantAnalysis\n",
    "import matplotlib.pyplot as plt\n",
    "import warnings\n",
    "from feature_engineering import *\n",
    "warnings.filterwarnings('ignore')\n",
    "%matplotlib inline"
   ]
  },
  {
   "cell_type": "code",
   "execution_count": 2,
   "id": "73f82b40",
   "metadata": {},
   "outputs": [],
   "source": [
    "# assume X_train and y_train are the training data and labels respectively\n",
    "df = pd.read_csv(\"../data/dataset1.csv\")\n",
    "df.head(-1)\n",
    "df_imputed = mean_imputation(df)\n",
    "X_train, X_test, y_train, y_test = train_test_split(df_imputed, shuffle = False)"
   ]
  },
  {
   "cell_type": "code",
   "execution_count": 3,
   "id": "6afe5944",
   "metadata": {},
   "outputs": [],
   "source": [
    "# build the FLDM model\n",
    "fldm = LinearDiscriminantAnalysis(n_components=1)\n",
    "fldm.fit(X_train, y_train)\n",
    "\n",
    "# project the training data onto the 1-dimensional FLDM space\n",
    "X_train_lda = fldm.transform(X_train)"
   ]
  },
  {
   "cell_type": "code",
   "execution_count": 4,
   "id": "b67063d5",
   "metadata": {},
   "outputs": [],
   "source": [
    "# find the decision boundary in the 1-dimensional FLDM space\n",
    "mean_pos = np.mean(X_train_lda[y_train == 1])\n",
    "mean_neg = np.mean(X_train_lda[y_train == -1])\n",
    "std_pos = np.std(X_train_lda[y_train == 1])\n",
    "std_neg = np.std(X_train_lda[y_train == -1])\n",
    "\n",
    "threshold = (mean_pos + mean_neg) / 2\n",
    "\n",
    "# assume X_test and y_test are the testing data and labels respectively"
   ]
  },
  {
   "cell_type": "code",
   "execution_count": 5,
   "id": "bb55053d",
   "metadata": {
    "scrolled": true
   },
   "outputs": [
    {
     "name": "stdout",
     "output_type": "stream",
     "text": [
      "Confusion Matrix: {'true_positive': 2, 'true_negative': 3, 'false_positive': 142, 'false_negative': 41}\n",
      "Accuracy: 2.6595744680851063%\n",
      "Precision: 1.3888888888888888%\n",
      "Recall: 4.651162790697675%\n"
     ]
    }
   ],
   "source": [
    "# project the testing data onto the 1-dimensional FLDM space\n",
    "X_test_lda = fldm.transform(X_test)\n",
    "\n",
    "# evaluate the performance of the model on the testing data\n",
    "y_pred = np.where(X_test_lda > threshold, 1, -1)\n",
    "evaluate(y_test, y_pred)"
   ]
  },
  {
   "cell_type": "markdown",
   "id": "d2c499ac",
   "metadata": {},
   "source": [
    "## Task 2"
   ]
  },
  {
   "cell_type": "code",
   "execution_count": 9,
   "id": "5863760c",
   "metadata": {},
   "outputs": [
    {
     "data": {
      "text/plain": [
       "(381, 31)"
      ]
     },
     "execution_count": 9,
     "metadata": {},
     "output_type": "execute_result"
    }
   ],
   "source": [
    "X_train.shape"
   ]
  },
  {
   "cell_type": "code",
   "execution_count": 16,
   "id": "45048ae7",
   "metadata": {},
   "outputs": [],
   "source": [
    "# randomly shuffle the order of features in the training data\n",
    "np.random.seed(42)\n",
    "n_features = X_train.shape[1]\n",
    "feature_order = np.random.permutation(n_features)\n",
    "X_train_shuffled = X_train[X_train.columns[feature_order]]"
   ]
  },
  {
   "cell_type": "code",
   "execution_count": 17,
   "id": "f5af3910",
   "metadata": {},
   "outputs": [],
   "source": [
    "# build the FLDM model\n",
    "fldm = LinearDiscriminantAnalysis(n_components=1)\n",
    "fldm.fit(X_train_shuffled, y_train)\n",
    "\n",
    "# project the training data onto the 1-dimensional FLDM space\n",
    "X_train_lda = fldm.transform(X_train_shuffled)"
   ]
  },
  {
   "cell_type": "code",
   "execution_count": 19,
   "id": "99bd37c4",
   "metadata": {},
   "outputs": [
    {
     "name": "stdout",
     "output_type": "stream",
     "text": [
      "Confusion Matrix: {'true_positive': 41, 'true_negative': 142, 'false_positive': 3, 'false_negative': 2}\n",
      "Accuracy: 97.34042553191489%\n",
      "Precision: 93.18181818181819%\n",
      "Recall: 95.34883720930233%\n"
     ]
    }
   ],
   "source": [
    "# find the decision boundary in the 1-dimensional FLDM space\n",
    "mean_pos = np.mean(X_train_lda[y_train == 1])\n",
    "mean_neg = np.mean(X_train_lda[y_train == -1])\n",
    "std_pos = np.std(X_train_lda[y_train == 1])\n",
    "std_neg = np.std(X_train_lda[y_train == -1])\n",
    "\n",
    "threshold = (mean_pos + mean_neg) / 2\n",
    "\n",
    "# shuffle the order of features in the testing data\n",
    "X_test_shuffled = X_test[X_test.columns[feature_order]]\n",
    "\n",
    "# project the testing data onto the 1-dimensional FLDM space\n",
    "X_test_lda = fldm.transform(X_test_shuffled)\n",
    "\n",
    "# evaluate the performance of the model on the testing data\n",
    "y_pred = np.where(X_test_lda > threshold, 1, -1)\n",
    "evaluate(y_test, y_pred)"
   ]
  },
  {
   "cell_type": "code",
   "execution_count": null,
   "id": "b32b4507",
   "metadata": {},
   "outputs": [],
   "source": []
  }
 ],
 "metadata": {
  "kernelspec": {
   "display_name": "Python 3 (ipykernel)",
   "language": "python",
   "name": "python3"
  },
  "language_info": {
   "codemirror_mode": {
    "name": "ipython",
    "version": 3
   },
   "file_extension": ".py",
   "mimetype": "text/x-python",
   "name": "python",
   "nbconvert_exporter": "python",
   "pygments_lexer": "ipython3",
   "version": "3.8.12"
  }
 },
 "nbformat": 4,
 "nbformat_minor": 5
}
