{
 "cells": [
  {
   "cell_type": "code",
   "execution_count": 1,
   "id": "20892a52",
   "metadata": {},
   "outputs": [],
   "source": [
    "import numpy as np\n",
    "import matplotlib\n",
    "import matplotlib.pyplot as plt\n",
    "import pandas as pd\n",
    "from sklearn import datasets\n",
    "from sklearn.metrics import classification_report\n",
    "from sklearn import preprocessing\n",
    "from tqdm import tqdm\n",
    "from time import time"
   ]
  },
  {
   "cell_type": "code",
   "execution_count": 2,
   "id": "385d4f7f",
   "metadata": {},
   "outputs": [],
   "source": [
    "df = pd.read_csv(\"../data/dataset1.csv\")\n",
    "df=df.drop('id',axis=1)\n",
    "df['diagnosis']=df['diagnosis'].map({'M': 1, 'B': 0})\n",
    "mean = np.mean(df, axis=0)\n",
    "for i in range(1,df.shape[1]):\n",
    "    df.iloc[:, i].fillna(mean[i-1], inplace=True)"
   ]
  },
  {
   "cell_type": "code",
   "execution_count": 3,
   "id": "24d6c3cc",
   "metadata": {},
   "outputs": [],
   "source": [
    "y = df['diagnosis']\n",
    "X = df.drop(['diagnosis'], axis=1)"
   ]
  },
  {
   "cell_type": "code",
   "execution_count": 4,
   "id": "9214b063",
   "metadata": {},
   "outputs": [],
   "source": [
    "X = df.drop(['diagnosis'], axis=1)\n",
    "split_idx = int(len(df) * 0.67)\n",
    "X_train, X_test = X[:split_idx], X[split_idx:]\n",
    "y_train, y_test = y[:split_idx], y[split_idx:]"
   ]
  },
  {
   "cell_type": "code",
   "execution_count": 5,
   "id": "80229683",
   "metadata": {},
   "outputs": [],
   "source": [
    "X_train=X_train.to_numpy()\n",
    "X_test=X_test.to_numpy()\n",
    "X_train=X_train.T\n",
    "X_test=X_test.T"
   ]
  },
  {
   "cell_type": "code",
   "execution_count": 6,
   "id": "39adbf88",
   "metadata": {},
   "outputs": [],
   "source": [
    "def sigmoid(a):\n",
    "    return (1/(1+np.exp(-a)))\n",
    "def calc_cost(m,Y,A):\n",
    "    return -(1/m)*np.sum(Y*(np.log(A))+(1-Y)*(np.log(1-A)))\n",
    "def calc_weights(w,X):\n",
    "    A = sigmoid(np.dot(w.T,X))\n",
    "    return A\n",
    "def update_weights(m,A,X,Y):\n",
    "    dw=(1/m)*np.dot(X,(A-Y).T)\n",
    "    return dw\n",
    "def gradient_descent(w, X, Y, num_iterations, learning_rate):\n",
    "    costs=[]\n",
    "    m=X.shape[1]\n",
    "    for i in range(num_iterations):\n",
    "        A=calc_weights(w,X)\n",
    "        cost=calc_cost(m,Y,A)\n",
    "        dw=update_weights(m,A,X,Y)\n",
    "        w=w-learning_rate*dw\n",
    "        costs.append(cost)\n",
    "    return w,dw,costs\n",
    "def prediction(w, X, Y):\n",
    "    m=X.shape[1]\n",
    "    print(Y)\n",
    "    predict=np.zeros((1,m))\n",
    "    A=np.dot(w.T,X)\n",
    "    Y_prediction = np.zeros((1,m))\n",
    "    \n",
    "    count=0\n",
    "    for i in range(1,m):\n",
    "        if A[0][i]<=0.5:\n",
    "            Y_prediction[0][i]=0\n",
    "        else:\n",
    "            Y_prediction[0][i]=1\n",
    "            \n",
    "    for i in range(1,m):\n",
    "        if Y_prediction[0][i]==Y[i]:\n",
    "            count+=1\n",
    "        \n",
    "    return (count/X.shape[1])*100"
   ]
  },
  {
   "cell_type": "code",
   "execution_count": 7,
   "id": "3f3c3a58",
   "metadata": {},
   "outputs": [],
   "source": [
    "def logistic_regression(X_train, Y_train, X_test, Y_test, learning_rate=0.005,num_iterations=1000):\n",
    "    w = np.zeros([X_train.shape[0],1])\n",
    "    w, dw, costs = gradient_descent(w,X_train, Y_train, num_iterations, learning_rate)\n",
    "    train_accuracy = prediction(w, X_train, Y_train)\n",
    "    test_accuracy = prediction(w, X_test, Y_test)\n",
    "    return train_accuracy,test_accuracy,costs"
   ]
  },
  {
   "cell_type": "code",
   "execution_count": 8,
   "id": "316b73f1",
   "metadata": {},
   "outputs": [],
   "source": [
    "y_train=y_train.to_numpy()\n",
    "y_test=y_test.to_numpy()"
   ]
  },
  {
   "cell_type": "code",
   "execution_count": 9,
   "id": "d87313c4",
   "metadata": {},
   "outputs": [
    {
     "name": "stdout",
     "output_type": "stream",
     "text": [
      "[1 1 1 1 1 1 1 1 1 1 1 1 1 1 1 1 1 1 1 0 0 0 1 1 1 1 1 1 1 1 1 1 1 1 1 1 1\n",
      " 0 1 1 1 1 1 1 1 1 0 1 0 0 0 0 0 1 1 0 1 1 0 0 0 0 1 0 1 1 0 0 0 0 1 0 1 1\n",
      " 0 1 0 1 1 0 0 0 1 1 0 1 1 1 0 0 0 1 0 0 1 1 0 0 0 1 1 0 0 0 0 1 0 0 1 0 0\n",
      " 0 0 0 0 0 0 1 1 1 0 1 1 0 0 0 1 1 0 1 0 1 1 0 1 1 0 0 1 0 0 1 0 0 0 0 1 0\n",
      " 0 0 0 0 0 0 0 0 1 0 0 0 0 1 1 0 1 0 0 1 1 0 0 1 1 0 0 0 0 1 0 0 1 1 1 0 1\n",
      " 0 1 0 0 0 1 0 0 1 1 0 1 1 1 1 0 1 1 1 0 1 0 1 0 0 1 0 1 1 1 1 0 0 1 1 0 0\n",
      " 0 1 0 0 0 0 0 1 1 0 0 1 0 0 1 1 0 1 0 0 0 0 1 0 0 0 0 0 1 0 1 1 1 1 1 1 1\n",
      " 1 1 1 1 1 1 1 0 0 0 0 0 0 1 0 1 0 0 1 0 0 1 0 1 1 0 0 0 0 0 0 0 0 0 0 0 0\n",
      " 0 1 0 0 1 0 1 0 0 0 0 0 0 0 0 0 0 0 0 0 0 1 0 0 0 1 0 1 0 0 0 0 1 1 1 0 0\n",
      " 0 0 1 0 1 0 1 0 0 0 1 0 0 0 0 0 0 0 1 1 1 0 0 0 0 0 0 0 0 0 0 0 1 1 0 1 1\n",
      " 1 0 1 1 0 0 0 0 0 1 0]\n",
      "[0 0 0 0 1 0 0 0 1 0 0 1 1 0 0 0 0 0 0 1 0 0 0 0 0 0 0 1 0 0 0 0 0 1 0 0 1\n",
      " 0 0 0 0 0 0 0 0 0 0 0 0 1 0 1 1 0 1 0 0 0 0 0 1 0 0 1 0 1 0 0 1 0 1 0 0 0\n",
      " 0 0 0 0 0 1 1 0 0 0 0 0 0 1 0 0 0 0 0 0 0 0 0 0 1 0 0 0 0 0 0 0 1 0 1 0 0\n",
      " 1 0 0 0 0 0 1 1 0 1 0 1 0 0 0 0 0 1 0 0 1 0 1 0 1 1 0 0 0 1 0 0 0 0 0 0 0\n",
      " 0 0 0 0 1 0 1 1 0 0 0 0 0 0 0 0 0 0 0 0 0 0 0 0 0 0 0 0 0 0 0 0 0 1 1 1 1\n",
      " 1 1 0]\n"
     ]
    },
    {
     "name": "stderr",
     "output_type": "stream",
     "text": [
      "C:\\Users\\Anirudh Singh\\anaconda3\\envs\\pytorch\\lib\\site-packages\\ipykernel_launcher.py:4: RuntimeWarning: divide by zero encountered in log\n",
      "  after removing the cwd from sys.path.\n",
      "C:\\Users\\Anirudh Singh\\anaconda3\\envs\\pytorch\\lib\\site-packages\\ipykernel_launcher.py:4: RuntimeWarning: invalid value encountered in multiply\n",
      "  after removing the cwd from sys.path.\n",
      "C:\\Users\\Anirudh Singh\\anaconda3\\envs\\pytorch\\lib\\site-packages\\ipykernel_launcher.py:2: RuntimeWarning: overflow encountered in exp\n",
      "  \n"
     ]
    }
   ],
   "source": [
    "train_accuracy,test_accuracy,costs=logistic_regression(X_train, y_train, X_test, y_test)"
   ]
  },
  {
   "cell_type": "code",
   "execution_count": 10,
   "id": "d3d5110a",
   "metadata": {},
   "outputs": [
    {
     "name": "stdout",
     "output_type": "stream",
     "text": [
      "The Accuracy in percentage calculated on the Training Data is 91.33858267716536\n"
     ]
    }
   ],
   "source": [
    "print('The Accuracy in percentage calculated on the Training Data is '+str(train_accuracy))"
   ]
  },
  {
   "cell_type": "code",
   "execution_count": 11,
   "id": "0a069aa9",
   "metadata": {},
   "outputs": [
    {
     "name": "stdout",
     "output_type": "stream",
     "text": [
      "The Accuracy in percentage calculated on the Test Data is 90.42553191489363\n"
     ]
    }
   ],
   "source": [
    "print('The Accuracy in percentage calculated on the Test Data is '+str(test_accuracy))"
   ]
  },
  {
   "cell_type": "code",
   "execution_count": null,
   "id": "3c7ec37f",
   "metadata": {},
   "outputs": [],
   "source": []
  }
 ],
 "metadata": {
  "kernelspec": {
   "display_name": "pytorch",
   "language": "python",
   "name": "pytorch"
  },
  "language_info": {
   "codemirror_mode": {
    "name": "ipython",
    "version": 3
   },
   "file_extension": ".py",
   "mimetype": "text/x-python",
   "name": "python",
   "nbconvert_exporter": "python",
   "pygments_lexer": "ipython3",
   "version": "3.7.16"
  }
 },
 "nbformat": 4,
 "nbformat_minor": 5
}
